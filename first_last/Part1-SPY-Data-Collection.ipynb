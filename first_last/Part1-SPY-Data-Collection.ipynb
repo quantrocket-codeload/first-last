{
 "cells": [
  {
   "cell_type": "markdown",
   "metadata": {},
   "source": [
    "<img alt=\"QuantRocket logo\" src=\"https://www.quantrocket.com/assets/img/notebook-header-logo.png\">\n",
    "\n",
    "<a href=\"https://www.quantrocket.com/disclaimer/\">Disclaimer</a>"
   ]
  },
  {
   "cell_type": "markdown",
   "metadata": {},
   "source": [
    "# SPY Data Collection\n",
    "\n",
    "We will backtest the trading strategy using the SPY ETF. The data collection process consists of collecting the SPY listing from ARCA, then collecting 30 minute bars."
   ]
  },
  {
   "cell_type": "markdown",
   "metadata": {},
   "source": [
    "First, start IB Gateway:"
   ]
  },
  {
   "cell_type": "code",
   "execution_count": 1,
   "metadata": {},
   "outputs": [
    {
     "data": {
      "text/plain": [
       "{'ibg1': {'status': 'running'}}"
      ]
     },
     "execution_count": 1,
     "metadata": {},
     "output_type": "execute_result"
    }
   ],
   "source": [
    "from quantrocket.launchpad import start_gateways\n",
    "start_gateways(wait=True)"
   ]
  },
  {
   "cell_type": "markdown",
   "metadata": {},
   "source": [
    "## Collect SPY listing\n",
    "\n",
    "Then collect the listing:"
   ]
  },
  {
   "cell_type": "code",
   "execution_count": 2,
   "metadata": {},
   "outputs": [
    {
     "data": {
      "text/plain": [
       "{'status': 'the listing details will be collected asynchronously'}"
      ]
     },
     "execution_count": 2,
     "metadata": {},
     "output_type": "execute_result"
    }
   ],
   "source": [
    "from quantrocket.master import collect_listings\n",
    "collect_listings(exchanges=\"ARCA\", sec_types=\"ETF\", symbols=\"SPY\")"
   ]
  },
  {
   "cell_type": "markdown",
   "metadata": {},
   "source": [
    "Monitor flightlog for a completion message:\n",
    "\n",
    "```\n",
    "quantrocket.master: INFO Collecting ARCA ETF listings from IB website (SPY only)\n",
    "quantrocket.master: INFO Requesting details for 1 ARCA listings found on IB website\n",
    "quantrocket.master: INFO Saved 1 ARCA listings to securities master database\n",
    "```"
   ]
  },
  {
   "cell_type": "markdown",
   "metadata": {},
   "source": [
    "## Lookup SPY\n",
    "\n",
    "Next, we look up the ConId (contract ID) for SPY. We use the command line interface because less typing is required.\n",
    "\n",
    "> Prefixing a line with ! allows running terminal commands from inside a notebook."
   ]
  },
  {
   "cell_type": "code",
   "execution_count": 3,
   "metadata": {},
   "outputs": [
    {
     "name": "stdout",
     "output_type": "stream",
     "text": [
      "---\n",
      "  - \n",
      "    ConId: 756733\n",
      "    Symbol: \"SPY\"\n",
      "\n"
     ]
    }
   ],
   "source": [
    "!quantrocket master get --symbols 'SPY' --exchanges 'ARCA' --sec-types 'ETF' --fields 'ConId' 'Symbol' --json | json2yaml"
   ]
  },
  {
   "cell_type": "markdown",
   "metadata": {},
   "source": [
    "## Collect historical data\n",
    "\n",
    "Next, we create a database for collecting 30-min bars for SPY.\n",
    "\n",
    "> The `shard` parameter is required for intraday databases and determines how to split up large databases into smaller pieces for better performance. Since our universe contains a relatively small number of securities, we can turn this feature off."
   ]
  },
  {
   "cell_type": "code",
   "execution_count": 4,
   "metadata": {},
   "outputs": [
    {
     "data": {
      "text/plain": [
       "{'status': 'successfully created quantrocket.history.spy-30min.sqlite'}"
      ]
     },
     "execution_count": 4,
     "metadata": {},
     "output_type": "execute_result"
    }
   ],
   "source": [
    "from quantrocket.history import create_db\n",
    "create_db(\"spy-30min\", conids=756733, bar_size=\"30 mins\", shard=\"off\")"
   ]
  },
  {
   "cell_type": "markdown",
   "metadata": {},
   "source": [
    "Then collect the data:"
   ]
  },
  {
   "cell_type": "code",
   "execution_count": 5,
   "metadata": {},
   "outputs": [
    {
     "data": {
      "text/plain": [
       "{'status': 'the historical data will be collected asynchronously'}"
      ]
     },
     "execution_count": 5,
     "metadata": {},
     "output_type": "execute_result"
    }
   ],
   "source": [
    "from quantrocket.history import collect_history\n",
    "collect_history(\"spy-30min\")"
   ]
  },
  {
   "cell_type": "markdown",
   "metadata": {},
   "source": [
    "Monitor flightlog for completion:\n",
    "\n",
    "```\n",
    "quantrocket.history: INFO [spy-30min] Collecting history from IB for 1 securities in spy-30min\n",
    "quantrocket.history: INFO [spy-30min] Saved 49140 total records for 1 total securities to quantrocket.history.spy-30min.sqlite\n",
    "```"
   ]
  },
  {
   "cell_type": "markdown",
   "metadata": {},
   "source": [
    "***\n",
    "\n",
    "## *Next Up*\n",
    "\n",
    "Part 2: [Moonshot Backtest](Part2-Moonshot-Backtest.ipynb)"
   ]
  }
 ],
 "metadata": {
  "kernelspec": {
   "display_name": "Python 3",
   "language": "python",
   "name": "python3"
  },
  "language_info": {
   "codemirror_mode": {
    "name": "ipython",
    "version": 3
   },
   "file_extension": ".py",
   "mimetype": "text/x-python",
   "name": "python",
   "nbconvert_exporter": "python",
   "pygments_lexer": "ipython3",
   "version": "3.6.6"
  }
 },
 "nbformat": 4,
 "nbformat_minor": 2
}
