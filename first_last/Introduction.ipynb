{
 "cells": [
  {
   "cell_type": "markdown",
   "metadata": {},
   "source": [
    "<a href=\"https://www.quantrocket.com\"><img alt=\"QuantRocket logo\" src=\"https://www.quantrocket.com/assets/img/notebook-header-logo.png\"></a><br>\n",
    "<a href=\"https://www.quantrocket.com/disclaimer/\">Disclaimer</a>"
   ]
  },
  {
   "cell_type": "markdown",
   "metadata": {},
   "source": [
    "# First Half Hour Predicts Last Half Hour\n",
    "\n",
    "This tutorial demonstrates an intraday momentum strategy that buys (sells) the S&P 500 when the first half hour return and penultimate half hour return are both positive (negative). Positions are held from 3:30-4:00 PM. A filter is applied to disable the strategy whenever the VIX is below 20, reflecting that the strategy works best during high volatility regimes. The strategy uses 1-min data for SPY from QuantRocket's US Stock dataset and uses 30-minute data from Interactive Brokers for VIX.  \n",
    "\n",
    "\n",
    "**Source paper**: Gao, Lei and Han, Yufeng and Li, Sophia Zhengzi and Zhou, Guofu, Intraday Momentum: The First Half-Hour Return Predicts the Last Half-Hour Return (June 28, 2015). Available at SSRN: https://ssrn.com/abstract=2552752 "
   ]
  },
  {
   "cell_type": "markdown",
   "metadata": {},
   "source": [
    "* Part 1: [SPY Data Collection](Part1-SPY-Data-Collection.ipynb)\n",
    "* Part 2: [Moonshot Backtest](Part2-Moonshot-Backtest.ipynb)\n",
    "* Part 3: [VIX Data Collection](Part3-VIX-Data-Collection.ipynb)\n",
    "* Part 4: [VIX Research](Part4-VIX-Research.ipynb)\n",
    "* Part 5: [Moonshot Backtest With VIX Filter](Part5-Moonshot-Backtest-With-VIX-Filter.ipynb)"
   ]
  }
 ],
 "metadata": {
  "kernelspec": {
   "display_name": "Python 3",
   "language": "python",
   "name": "python3"
  },
  "language_info": {
   "codemirror_mode": {
    "name": "ipython",
    "version": 3
   },
   "file_extension": ".py",
   "mimetype": "text/x-python",
   "name": "python",
   "nbconvert_exporter": "python",
   "pygments_lexer": "ipython3",
   "version": "3.7.6"
  }
 },
 "nbformat": 4,
 "nbformat_minor": 4
}
