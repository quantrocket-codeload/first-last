{
 "cells": [
  {
   "cell_type": "markdown",
   "metadata": {},
   "source": [
    "<img alt=\"QuantRocket logo\" src=\"https://www.quantrocket.com/assets/img/notebook-header-logo.png\">\n",
    "\n",
    "<a href=\"https://www.quantrocket.com/disclaimer/\">Disclaimer</a>"
   ]
  },
  {
   "cell_type": "markdown",
   "metadata": {},
   "source": [
    "# VIX Data Collection\n",
    "\n",
    "The backtest revealed that this strategy was mainly profitable during the 2008 financial crisis. In line with this observation, the authors of the source paper note that the predictive power of the first half hour is greater during periods of high volatility.\n",
    "\n",
    "We will use intraday VIX data to investigate this observation further."
   ]
  },
  {
   "cell_type": "markdown",
   "metadata": {},
   "source": [
    "## Collect CBOE index listings\n",
    "\n",
    "First, collect all index listings from CBOE:"
   ]
  },
  {
   "cell_type": "code",
   "execution_count": 1,
   "metadata": {},
   "outputs": [
    {
     "data": {
      "text/plain": [
       "{'status': 'the IBKR listing details will be collected asynchronously'}"
      ]
     },
     "execution_count": 1,
     "metadata": {},
     "output_type": "execute_result"
    }
   ],
   "source": [
    "from quantrocket.master import collect_ibkr_listings\n",
    "collect_ibkr_listings(exchanges=\"CBOE\", sec_types=\"IND\")"
   ]
  },
  {
   "cell_type": "markdown",
   "metadata": {},
   "source": [
    "Monitor flightlog for a completion message:\n",
    "\n",
    "```\n",
    "quantrocket.master: INFO Collecting CBOE IND listings from IBKR website\n",
    "quantrocket.master: INFO Requesting details for 206 CBOE listings found on IBKR website\n",
    "quantrocket.master: INFO Saved 206 CBOE listings to securities master database\n",
    "```"
   ]
  },
  {
   "cell_type": "markdown",
   "metadata": {},
   "source": [
    "## Lookup VIX\n",
    "\n",
    "Next, we look up the Sid for VIX."
   ]
  },
  {
   "cell_type": "code",
   "execution_count": 2,
   "metadata": {},
   "outputs": [
    {
     "name": "stdout",
     "output_type": "stream",
     "text": [
      "---\n",
      "  - \n",
      "    Sid: \"IB13455763\"\n",
      "    Symbol: \"VIX\"\n",
      "\n"
     ]
    }
   ],
   "source": [
    "!quantrocket master get --symbols 'VIX' --exchanges 'CBOE' --sec-types 'IND' --fields 'Sid' 'Symbol' --json | json2yaml"
   ]
  },
  {
   "cell_type": "markdown",
   "metadata": {},
   "source": [
    "## Collect historical data\n",
    "\n",
    "Next, we create a database for collecting 30-min bars for VIX:"
   ]
  },
  {
   "cell_type": "code",
   "execution_count": 3,
   "metadata": {},
   "outputs": [
    {
     "data": {
      "text/plain": [
       "{'status': 'successfully created quantrocket.v2.history.vix-30min.sqlite'}"
      ]
     },
     "execution_count": 3,
     "metadata": {},
     "output_type": "execute_result"
    }
   ],
   "source": [
    "from quantrocket.history import create_ibkr_db\n",
    "create_ibkr_db(\"vix-30min\", sids=\"IB13455763\", bar_size=\"30 mins\", shard=\"off\")"
   ]
  },
  {
   "cell_type": "markdown",
   "metadata": {},
   "source": [
    "Then collect the data:"
   ]
  },
  {
   "cell_type": "code",
   "execution_count": 4,
   "metadata": {},
   "outputs": [
    {
     "data": {
      "text/plain": [
       "{'status': 'the historical data will be collected asynchronously'}"
      ]
     },
     "execution_count": 4,
     "metadata": {},
     "output_type": "execute_result"
    }
   ],
   "source": [
    "from quantrocket.history import collect_history\n",
    "collect_history(\"vix-30min\")"
   ]
  },
  {
   "cell_type": "markdown",
   "metadata": {},
   "source": [
    "Monitor flightlog for completion:\n",
    "\n",
    "```\n",
    "quantrocket.history: INFO [vix-30min] Collecting history from IBKR for 1 securities in vix-30min\n",
    "quantrocket.history: INFO [vix-30min] Saved 53788 total records for 1 total securities to quantrocket.v2.history.vix-30min.sqlite\n",
    "```"
   ]
  },
  {
   "cell_type": "markdown",
   "metadata": {},
   "source": [
    "***\n",
    "\n",
    "## *Next Up*\n",
    "\n",
    "Part 4: [VIX Research](Part4-VIX-Research.ipynb)"
   ]
  }
 ],
 "metadata": {
  "kernelspec": {
   "display_name": "Python 3",
   "language": "python",
   "name": "python3"
  },
  "language_info": {
   "codemirror_mode": {
    "name": "ipython",
    "version": 3
   },
   "file_extension": ".py",
   "mimetype": "text/x-python",
   "name": "python",
   "nbconvert_exporter": "python",
   "pygments_lexer": "ipython3",
   "version": "3.6.6"
  }
 },
 "nbformat": 4,
 "nbformat_minor": 4
}
